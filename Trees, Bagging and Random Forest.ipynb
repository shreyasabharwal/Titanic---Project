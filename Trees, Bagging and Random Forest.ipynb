{
 "cells": [
  {
   "cell_type": "markdown",
   "metadata": {},
   "source": [
    "### Decision trees, Bagging and Random Forest - Implementation"
   ]
  },
  {
   "cell_type": "markdown",
   "metadata": {},
   "source": [
    "Collaborated with - Sahil Aggarwal"
   ]
  },
  {
   "cell_type": "code",
   "execution_count": 1,
   "metadata": {},
   "outputs": [],
   "source": [
    "import numpy as np\n",
    "import pandas as pd\n",
    "\n",
    "import math\n",
    "from statistics import mode\n",
    "import matplotlib.pyplot as plt\n",
    "import random\n",
    "\n",
    "#sklearn imports\n",
    "from sklearn.model_selection import train_test_split\n",
    "from sklearn.preprocessing import LabelEncoder\n",
    "from sklearn.metrics import accuracy_score, precision_score, recall_score"
   ]
  },
  {
   "cell_type": "markdown",
   "metadata": {},
   "source": [
    "\n",
    "survival - Survival (0 = No; 1 = Yes)\n",
    "class - Passenger Class (1 = 1st; 2 = 2nd; 3 = 3rd)\n",
    "name - Name\n",
    "sex - Sex\n",
    "age - Age\n",
    "sibsp - Number of Siblings/Spouses Aboard\n",
    "parch - Number of Parents/Children Aboard\n",
    "ticket - Ticket Number\n",
    "fare - Passenger Fare\n",
    "cabin - Cabin\n",
    "embarked - Port of Embarkation (C = Cherbourg; Q = Queenstown; S = Southampton)\n",
    "boat - Lifeboat (if survived)\n",
    "body - Body number (if did not survive and body was recovered)\n",
    "\n"
   ]
  },
  {
   "cell_type": "markdown",
   "metadata": {},
   "source": [
    "## Exploring the Data"
   ]
  },
  {
   "cell_type": "code",
   "execution_count": 2,
   "metadata": {},
   "outputs": [
    {
     "data": {
      "text/html": [
       "<div>\n",
       "<style scoped>\n",
       "    .dataframe tbody tr th:only-of-type {\n",
       "        vertical-align: middle;\n",
       "    }\n",
       "\n",
       "    .dataframe tbody tr th {\n",
       "        vertical-align: top;\n",
       "    }\n",
       "\n",
       "    .dataframe thead th {\n",
       "        text-align: right;\n",
       "    }\n",
       "</style>\n",
       "<table border=\"1\" class=\"dataframe\">\n",
       "  <thead>\n",
       "    <tr style=\"text-align: right;\">\n",
       "      <th></th>\n",
       "      <th>pclass</th>\n",
       "      <th>survived</th>\n",
       "      <th>name</th>\n",
       "      <th>sex</th>\n",
       "      <th>age</th>\n",
       "      <th>sibsp</th>\n",
       "      <th>parch</th>\n",
       "      <th>ticket</th>\n",
       "      <th>fare</th>\n",
       "      <th>cabin</th>\n",
       "      <th>embarked</th>\n",
       "      <th>boat</th>\n",
       "      <th>body</th>\n",
       "      <th>home.dest</th>\n",
       "    </tr>\n",
       "  </thead>\n",
       "  <tbody>\n",
       "    <tr>\n",
       "      <th>0</th>\n",
       "      <td>1</td>\n",
       "      <td>1</td>\n",
       "      <td>Allen, Miss. Elisabeth Walton</td>\n",
       "      <td>female</td>\n",
       "      <td>29.0000</td>\n",
       "      <td>0</td>\n",
       "      <td>0</td>\n",
       "      <td>24160</td>\n",
       "      <td>211.3375</td>\n",
       "      <td>B5</td>\n",
       "      <td>S</td>\n",
       "      <td>2</td>\n",
       "      <td>NaN</td>\n",
       "      <td>St Louis, MO</td>\n",
       "    </tr>\n",
       "    <tr>\n",
       "      <th>1</th>\n",
       "      <td>1</td>\n",
       "      <td>1</td>\n",
       "      <td>Allison, Master. Hudson Trevor</td>\n",
       "      <td>male</td>\n",
       "      <td>0.9167</td>\n",
       "      <td>1</td>\n",
       "      <td>2</td>\n",
       "      <td>113781</td>\n",
       "      <td>151.5500</td>\n",
       "      <td>C22 C26</td>\n",
       "      <td>S</td>\n",
       "      <td>11</td>\n",
       "      <td>NaN</td>\n",
       "      <td>Montreal, PQ / Chesterville, ON</td>\n",
       "    </tr>\n",
       "    <tr>\n",
       "      <th>2</th>\n",
       "      <td>1</td>\n",
       "      <td>0</td>\n",
       "      <td>Allison, Miss. Helen Loraine</td>\n",
       "      <td>female</td>\n",
       "      <td>2.0000</td>\n",
       "      <td>1</td>\n",
       "      <td>2</td>\n",
       "      <td>113781</td>\n",
       "      <td>151.5500</td>\n",
       "      <td>C22 C26</td>\n",
       "      <td>S</td>\n",
       "      <td>NaN</td>\n",
       "      <td>NaN</td>\n",
       "      <td>Montreal, PQ / Chesterville, ON</td>\n",
       "    </tr>\n",
       "    <tr>\n",
       "      <th>3</th>\n",
       "      <td>1</td>\n",
       "      <td>0</td>\n",
       "      <td>Allison, Mr. Hudson Joshua Creighton</td>\n",
       "      <td>male</td>\n",
       "      <td>30.0000</td>\n",
       "      <td>1</td>\n",
       "      <td>2</td>\n",
       "      <td>113781</td>\n",
       "      <td>151.5500</td>\n",
       "      <td>C22 C26</td>\n",
       "      <td>S</td>\n",
       "      <td>NaN</td>\n",
       "      <td>135.0</td>\n",
       "      <td>Montreal, PQ / Chesterville, ON</td>\n",
       "    </tr>\n",
       "    <tr>\n",
       "      <th>4</th>\n",
       "      <td>1</td>\n",
       "      <td>0</td>\n",
       "      <td>Allison, Mrs. Hudson J C (Bessie Waldo Daniels)</td>\n",
       "      <td>female</td>\n",
       "      <td>25.0000</td>\n",
       "      <td>1</td>\n",
       "      <td>2</td>\n",
       "      <td>113781</td>\n",
       "      <td>151.5500</td>\n",
       "      <td>C22 C26</td>\n",
       "      <td>S</td>\n",
       "      <td>NaN</td>\n",
       "      <td>NaN</td>\n",
       "      <td>Montreal, PQ / Chesterville, ON</td>\n",
       "    </tr>\n",
       "  </tbody>\n",
       "</table>\n",
       "</div>"
      ],
      "text/plain": [
       "   pclass  survived                                             name     sex  \\\n",
       "0       1         1                    Allen, Miss. Elisabeth Walton  female   \n",
       "1       1         1                   Allison, Master. Hudson Trevor    male   \n",
       "2       1         0                     Allison, Miss. Helen Loraine  female   \n",
       "3       1         0             Allison, Mr. Hudson Joshua Creighton    male   \n",
       "4       1         0  Allison, Mrs. Hudson J C (Bessie Waldo Daniels)  female   \n",
       "\n",
       "       age  sibsp  parch  ticket      fare    cabin embarked boat   body  \\\n",
       "0  29.0000      0      0   24160  211.3375       B5        S    2    NaN   \n",
       "1   0.9167      1      2  113781  151.5500  C22 C26        S   11    NaN   \n",
       "2   2.0000      1      2  113781  151.5500  C22 C26        S  NaN    NaN   \n",
       "3  30.0000      1      2  113781  151.5500  C22 C26        S  NaN  135.0   \n",
       "4  25.0000      1      2  113781  151.5500  C22 C26        S  NaN    NaN   \n",
       "\n",
       "                         home.dest  \n",
       "0                     St Louis, MO  \n",
       "1  Montreal, PQ / Chesterville, ON  \n",
       "2  Montreal, PQ / Chesterville, ON  \n",
       "3  Montreal, PQ / Chesterville, ON  \n",
       "4  Montreal, PQ / Chesterville, ON  "
      ]
     },
     "execution_count": 2,
     "metadata": {},
     "output_type": "execute_result"
    }
   ],
   "source": [
    "# First few rows\n",
    "\n",
    "titanic = pd.read_csv(\"titanic.csv.bz2\")\n",
    "titanic.head()"
   ]
  },
  {
   "cell_type": "code",
   "execution_count": 5,
   "metadata": {},
   "outputs": [
    {
     "data": {
      "text/plain": [
       "Index(['pclass', 'survived', 'name', 'sex', 'age', 'sibsp', 'parch', 'ticket',\n",
       "       'fare', 'cabin', 'embarked', 'boat', 'body', 'home.dest'],\n",
       "      dtype='object')"
      ]
     },
     "execution_count": 5,
     "metadata": {},
     "output_type": "execute_result"
    }
   ],
   "source": [
    "#Columns\n",
    "titanic.columns"
   ]
  },
  {
   "cell_type": "code",
   "execution_count": 1,
   "metadata": {},
   "outputs": [],
   "source": [
    "#Checking codding of variables"
   ]
  },
  {
   "cell_type": "code",
   "execution_count": 6,
   "metadata": {},
   "outputs": [
    {
     "data": {
      "text/plain": [
       "array([1, 2, 3], dtype=int64)"
      ]
     },
     "execution_count": 6,
     "metadata": {},
     "output_type": "execute_result"
    }
   ],
   "source": [
    "titanic.pclass.unique()"
   ]
  },
  {
   "cell_type": "code",
   "execution_count": 7,
   "metadata": {},
   "outputs": [
    {
     "data": {
      "text/plain": [
       "array(['female', 'male'], dtype=object)"
      ]
     },
     "execution_count": 7,
     "metadata": {},
     "output_type": "execute_result"
    }
   ],
   "source": [
    "titanic.sex.unique()"
   ]
  },
  {
   "cell_type": "code",
   "execution_count": 8,
   "metadata": {},
   "outputs": [
    {
     "data": {
      "text/plain": [
       "array([0, 1, 2, 3, 4, 5, 8], dtype=int64)"
      ]
     },
     "execution_count": 8,
     "metadata": {},
     "output_type": "execute_result"
    }
   ],
   "source": [
    "titanic.sibsp.unique()"
   ]
  },
  {
   "cell_type": "code",
   "execution_count": 9,
   "metadata": {},
   "outputs": [
    {
     "data": {
      "text/plain": [
       "array([0, 2, 1, 4, 3, 5, 6, 9], dtype=int64)"
      ]
     },
     "execution_count": 9,
     "metadata": {},
     "output_type": "execute_result"
    }
   ],
   "source": [
    "titanic.parch.unique()"
   ]
  },
  {
   "cell_type": "code",
   "execution_count": 10,
   "metadata": {},
   "outputs": [
    {
     "data": {
      "text/plain": [
       "array(['S', 'C', nan, 'Q'], dtype=object)"
      ]
     },
     "execution_count": 10,
     "metadata": {},
     "output_type": "execute_result"
    }
   ],
   "source": [
    "titanic.embarked.unique()"
   ]
  },
  {
   "cell_type": "code",
   "execution_count": 11,
   "metadata": {},
   "outputs": [
    {
     "data": {
      "text/plain": [
       "array(['2', '11', nan, '3', '10', 'D', '4', '9', '6', 'B', '8', 'A', '5',\n",
       "       '7', 'C', '14', '5 9', '13', '1', '15', '5 7', '8 10', '12', '16',\n",
       "       '13 15 B', 'C D', '15 16', '13 15'], dtype=object)"
      ]
     },
     "execution_count": 11,
     "metadata": {},
     "output_type": "execute_result"
    }
   ],
   "source": [
    "titanic['boat'].unique()"
   ]
  },
  {
   "cell_type": "code",
   "execution_count": 12,
   "metadata": {},
   "outputs": [
    {
     "data": {
      "text/plain": [
       "array([1, 0], dtype=int64)"
      ]
     },
     "execution_count": 12,
     "metadata": {},
     "output_type": "execute_result"
    }
   ],
   "source": [
    "titanic.survived.unique()"
   ]
  },
  {
   "cell_type": "code",
   "execution_count": 13,
   "metadata": {},
   "outputs": [],
   "source": [
    "# Filling Nan values for embarked with mode\n",
    "\n",
    "e = mode(titanic['embarked'])\n",
    "titanic['embarked'] = titanic['embarked'].fillna(e)"
   ]
  },
  {
   "cell_type": "code",
   "execution_count": 14,
   "metadata": {},
   "outputs": [],
   "source": [
    "\n",
    "# Encoding string categorical values for embarked and sex\n",
    "\n",
    "encoder = LabelEncoder()\n",
    "titanic['embarked'] = encoder.fit_transform(titanic['embarked'])\n",
    "\n",
    "# Using list comprehension for sex\n",
    "\n",
    "titanic['sex'] = [0 if i=='male' else 1 for i in titanic.sex]"
   ]
  },
  {
   "cell_type": "code",
   "execution_count": 15,
   "metadata": {},
   "outputs": [],
   "source": [
    "# Computing summary statistics\n",
    "\n",
    "cols=['pclass','age','sibsp','parch','fare',\"body\",\"sex\",'embarked']\n",
    "survived=[]\n",
    "drowned=[]\n",
    "missing = []\n",
    "for i in cols:\n",
    "    survived.append(titanic[titanic.survived==1][i].mean())\n",
    "    drowned.append(titanic[titanic.survived==0][i].mean())\n",
    "    missing.append(titanic[i].isnull().sum())"
   ]
  },
  {
   "cell_type": "code",
   "execution_count": 16,
   "metadata": {},
   "outputs": [],
   "source": [
    "summary_stats = pd.DataFrame()"
   ]
  },
  {
   "cell_type": "code",
   "execution_count": 17,
   "metadata": {},
   "outputs": [],
   "source": [
    "summary_stats['cols']=cols\n",
    "summary_stats['survived']=survived\n",
    "summary_stats['drowned']=drowned\n",
    "summary_stats['missing_values']=missing"
   ]
  },
  {
   "cell_type": "code",
   "execution_count": 18,
   "metadata": {},
   "outputs": [
    {
     "data": {
      "text/html": [
       "<div>\n",
       "<style scoped>\n",
       "    .dataframe tbody tr th:only-of-type {\n",
       "        vertical-align: middle;\n",
       "    }\n",
       "\n",
       "    .dataframe tbody tr th {\n",
       "        vertical-align: top;\n",
       "    }\n",
       "\n",
       "    .dataframe thead th {\n",
       "        text-align: right;\n",
       "    }\n",
       "</style>\n",
       "<table border=\"1\" class=\"dataframe\">\n",
       "  <thead>\n",
       "    <tr style=\"text-align: right;\">\n",
       "      <th></th>\n",
       "      <th>cols</th>\n",
       "      <th>survived</th>\n",
       "      <th>drowned</th>\n",
       "      <th>missing_values</th>\n",
       "    </tr>\n",
       "  </thead>\n",
       "  <tbody>\n",
       "    <tr>\n",
       "      <th>0</th>\n",
       "      <td>pclass</td>\n",
       "      <td>1.962000</td>\n",
       "      <td>2.500618</td>\n",
       "      <td>0</td>\n",
       "    </tr>\n",
       "    <tr>\n",
       "      <th>1</th>\n",
       "      <td>age</td>\n",
       "      <td>28.918228</td>\n",
       "      <td>30.545369</td>\n",
       "      <td>263</td>\n",
       "    </tr>\n",
       "    <tr>\n",
       "      <th>2</th>\n",
       "      <td>sibsp</td>\n",
       "      <td>0.462000</td>\n",
       "      <td>0.521632</td>\n",
       "      <td>0</td>\n",
       "    </tr>\n",
       "    <tr>\n",
       "      <th>3</th>\n",
       "      <td>parch</td>\n",
       "      <td>0.476000</td>\n",
       "      <td>0.328801</td>\n",
       "      <td>0</td>\n",
       "    </tr>\n",
       "    <tr>\n",
       "      <th>4</th>\n",
       "      <td>fare</td>\n",
       "      <td>49.361184</td>\n",
       "      <td>23.353831</td>\n",
       "      <td>1</td>\n",
       "    </tr>\n",
       "    <tr>\n",
       "      <th>5</th>\n",
       "      <td>body</td>\n",
       "      <td>NaN</td>\n",
       "      <td>160.809917</td>\n",
       "      <td>1188</td>\n",
       "    </tr>\n",
       "    <tr>\n",
       "      <th>6</th>\n",
       "      <td>sex</td>\n",
       "      <td>0.678000</td>\n",
       "      <td>0.156984</td>\n",
       "      <td>0</td>\n",
       "    </tr>\n",
       "    <tr>\n",
       "      <th>7</th>\n",
       "      <td>embarked</td>\n",
       "      <td>1.312000</td>\n",
       "      <td>1.605686</td>\n",
       "      <td>0</td>\n",
       "    </tr>\n",
       "  </tbody>\n",
       "</table>\n",
       "</div>"
      ],
      "text/plain": [
       "       cols   survived     drowned  missing_values\n",
       "0    pclass   1.962000    2.500618               0\n",
       "1       age  28.918228   30.545369             263\n",
       "2     sibsp   0.462000    0.521632               0\n",
       "3     parch   0.476000    0.328801               0\n",
       "4      fare  49.361184   23.353831               1\n",
       "5      body        NaN  160.809917            1188\n",
       "6       sex   0.678000    0.156984               0\n",
       "7  embarked   1.312000    1.605686               0"
      ]
     },
     "execution_count": 18,
     "metadata": {},
     "output_type": "execute_result"
    }
   ],
   "source": [
    "summary_stats"
   ]
  },
  {
   "cell_type": "code",
   "execution_count": 19,
   "metadata": {},
   "outputs": [],
   "source": [
    "# Filling missing values for age with the mean\n",
    "\n",
    "titanic['age'] = titanic.age.fillna(titanic.age.mean())"
   ]
  },
  {
   "cell_type": "markdown",
   "metadata": {},
   "source": [
    "## Implement the decision tree "
   ]
  },
  {
   "cell_type": "code",
   "execution_count": 21,
   "metadata": {},
   "outputs": [],
   "source": [
    "# Defining X and Y\n",
    "X_data = titanic[['pclass', 'age', 'sibsp', 'parch', 'fare', 'sex','embarked']]\n",
    "Y_data = titanic['survived']"
   ]
  },
  {
   "cell_type": "code",
   "execution_count": 22,
   "metadata": {},
   "outputs": [],
   "source": [
    "# Splitting the data in train and test\n",
    "X_train, X_test, y_train, y_test = train_test_split(X_data, Y_data, test_size=0.20, random_state=42)"
   ]
  },
  {
   "cell_type": "code",
   "execution_count": 23,
   "metadata": {},
   "outputs": [],
   "source": [
    "# Defining the training set and the test set\n",
    "\n",
    "training_set = pd.concat([X_train,y_train],axis=1)\n",
    "test_set = pd.concat([X_test,y_test],axis=1)"
   ]
  },
  {
   "cell_type": "code",
   "execution_count": 24,
   "metadata": {},
   "outputs": [],
   "source": [
    "def entropy(length_survived,length_drowned):\n",
    "    \"\"\"\n",
    "    Takes in the length of survived and drowned people and calculates entropy\n",
    "    \"\"\"\n",
    "    sum = length_survived + length_drowned\n",
    "\n",
    "    entropy = 0\n",
    "    \n",
    "    #Calculate probability\n",
    "    p = length_survived / sum\n",
    "    if (p != 0):\n",
    "        entropy += p * math.log(p, 2)\n",
    "    p = (length_drowned)/sum\n",
    "    if (p != 0):\n",
    "        entropy += p * math.log(p, 2)\n",
    "\n",
    "    e = -entropy\n",
    "    return e"
   ]
  },
  {
   "cell_type": "code",
   "execution_count": 25,
   "metadata": {},
   "outputs": [],
   "source": [
    "def information_gain(data,feature):\n",
    "\n",
    "    gain = 0\n",
    "    shape = data.shape[0]\n",
    "      for i in data[feature].unique():\n",
    "        feature_data = data[data[feature] == i]\n",
    "        weight = len(feature_data)\n",
    "        a = len(feature_data[feature_data['survived'] == 1])\n",
    "        b = len(feature_data[feature_data['survived'] == 0])\n",
    "        gain = gain + ((calc_entropy(a, b))*weight/shape)\n",
    "    \n",
    "    return gain"
   ]
  },
  {
   "cell_type": "code",
   "execution_count": 26,
   "metadata": {},
   "outputs": [
    {
     "data": {
      "text/plain": [
       "0.945246650784105"
      ]
     },
     "execution_count": 26,
     "metadata": {},
     "output_type": "execute_result"
    }
   ],
   "source": [
    "# Calculate the entropy of age for the best split from age vector\n",
    "\n",
    "def entropy_age(dataset):    \n",
    "    survived = dataset[dataset.survived==1].shape[0]\n",
    "    total = dataset.shape[0];\n",
    "\n",
    "    entropy = 0\n",
    "    p = survived / total\n",
    "    if (p != 0):\n",
    "        entropy += p * math.log(p, 2)\n",
    "    p = (total - survived)/total\n",
    "    if (p != 0):\n",
    "        entropy += p * math.log(p, 2)\n",
    "\n",
    "    entropy = -entropy\n",
    "    return entropy\n",
    "\n",
    "age = np.unique(X_train['age'])\n",
    "age = age[~np.isnan(age)]\n",
    "\n",
    "\n",
    "# Finding the entropy for the first value of age vector\n",
    "\n",
    "a = training_set[training_set.age<=age[0]]\n",
    "b = training_set[training_set.age>age[0]]\n",
    "entropy = ((a.shape[0]/(a.shape[0]+b.shape[0]))*entropy_age(a))  +  ((b.shape[0]/(a.shape[0]+b.shape[0]))*entropy_age(b))\n",
    "entropy "
   ]
  },
  {
   "cell_type": "code",
   "execution_count": 27,
   "metadata": {},
   "outputs": [
    {
     "data": {
      "text/html": [
       "<div>\n",
       "<style scoped>\n",
       "    .dataframe tbody tr th:only-of-type {\n",
       "        vertical-align: middle;\n",
       "    }\n",
       "\n",
       "    .dataframe tbody tr th {\n",
       "        vertical-align: top;\n",
       "    }\n",
       "\n",
       "    .dataframe thead th {\n",
       "        text-align: right;\n",
       "    }\n",
       "</style>\n",
       "<table border=\"1\" class=\"dataframe\">\n",
       "  <thead>\n",
       "    <tr style=\"text-align: right;\">\n",
       "      <th></th>\n",
       "      <th>Value</th>\n",
       "      <th>H(S)</th>\n",
       "    </tr>\n",
       "  </thead>\n",
       "  <tbody>\n",
       "    <tr>\n",
       "      <th>14</th>\n",
       "      <td>8.0</td>\n",
       "      <td>0.932815</td>\n",
       "    </tr>\n",
       "  </tbody>\n",
       "</table>\n",
       "</div>"
      ],
      "text/plain": [
       "    Value      H(S)\n",
       "14    8.0  0.932815"
      ]
     },
     "execution_count": 27,
     "metadata": {},
     "output_type": "execute_result"
    }
   ],
   "source": [
    "entropy  = pd.DataFrame(columns = ['Value', 'H(S)'])\n",
    "\n",
    "#Iterating over each value of age\n",
    "for i in age:\n",
    "    # Splitting age according to threshold in this iteration\n",
    "    training_set['age*'] = np.where(training_set['age'] > i, 1,0)\n",
    "    \n",
    "    # Finding entropy of age column\n",
    "    gain = information_gain(training_set, 'age*')\n",
    "    \n",
    "    idx = len(entropy) + 1\n",
    "    \n",
    "    entropy.loc[idx] = [i, gain]\n",
    "\n",
    "entropy[entropy['Value']==8]"
   ]
  },
  {
   "cell_type": "markdown",
   "metadata": {},
   "source": [
    "Best value to split age is 8, i.e age=8 gives the lowest entropy"
   ]
  },
  {
   "cell_type": "code",
   "execution_count": 28,
   "metadata": {},
   "outputs": [
    {
     "data": {
      "text/html": [
       "<div>\n",
       "<style scoped>\n",
       "    .dataframe tbody tr th:only-of-type {\n",
       "        vertical-align: middle;\n",
       "    }\n",
       "\n",
       "    .dataframe tbody tr th {\n",
       "        vertical-align: top;\n",
       "    }\n",
       "\n",
       "    .dataframe thead th {\n",
       "        text-align: right;\n",
       "    }\n",
       "</style>\n",
       "<table border=\"1\" class=\"dataframe\">\n",
       "  <thead>\n",
       "    <tr style=\"text-align: right;\">\n",
       "      <th></th>\n",
       "      <th>Value</th>\n",
       "      <th>H(S)</th>\n",
       "    </tr>\n",
       "  </thead>\n",
       "  <tbody>\n",
       "    <tr>\n",
       "      <th>2</th>\n",
       "      <td>2.0</td>\n",
       "      <td>0.894528</td>\n",
       "    </tr>\n",
       "    <tr>\n",
       "      <th>3</th>\n",
       "      <td>1.0</td>\n",
       "      <td>0.896097</td>\n",
       "    </tr>\n",
       "    <tr>\n",
       "      <th>1</th>\n",
       "      <td>3.0</td>\n",
       "      <td>0.946637</td>\n",
       "    </tr>\n",
       "  </tbody>\n",
       "</table>\n",
       "</div>"
      ],
      "text/plain": [
       "   Value      H(S)\n",
       "2    2.0  0.894528\n",
       "3    1.0  0.896097\n",
       "1    3.0  0.946637"
      ]
     },
     "execution_count": 28,
     "metadata": {},
     "output_type": "execute_result"
    }
   ],
   "source": [
    "entropy  = pd.DataFrame(columns = ['Value', 'H(S)'])\n",
    "\n",
    "for i in training_set.pclass.unique():\n",
    "\n",
    "    training_set['pclass*'] = np.where(training_set['pclass'] > i, 1,0)\n",
    "    gain = information_gain(training_set, 'pclass*')\n",
    "    \n",
    "    idx = len(entropy) + 1\n",
    "    \n",
    "    entropy.loc[idx] = [i, gain]\n",
    "\n",
    "entropy.sort_values(by='H(S)')\n"
   ]
  },
  {
   "cell_type": "markdown",
   "metadata": {},
   "source": [
    "Pclass = 2 has the lowest entropy and hence is the best boundary to split for pclass"
   ]
  },
  {
   "cell_type": "code",
   "execution_count": 29,
   "metadata": {},
   "outputs": [
    {
     "data": {
      "text/plain": [
       "Index(['pclass', 'age', 'sibsp', 'parch', 'fare', 'sex', 'embarked',\n",
       "       'survived'],\n",
       "      dtype='object')"
      ]
     },
     "execution_count": 29,
     "metadata": {},
     "output_type": "execute_result"
    }
   ],
   "source": [
    "# drop uneccesary cols\n",
    "training_set = training_set.drop(['age*','pclass*'],axis=1)\n",
    "training_set.columns"
   ]
  },
  {
   "cell_type": "code",
   "execution_count": 31,
   "metadata": {},
   "outputs": [
    {
     "data": {
      "text/html": [
       "<div>\n",
       "<style scoped>\n",
       "    .dataframe tbody tr th:only-of-type {\n",
       "        vertical-align: middle;\n",
       "    }\n",
       "\n",
       "    .dataframe tbody tr th {\n",
       "        vertical-align: top;\n",
       "    }\n",
       "\n",
       "    .dataframe thead th {\n",
       "        text-align: right;\n",
       "    }\n",
       "</style>\n",
       "<table border=\"1\" class=\"dataframe\">\n",
       "  <thead>\n",
       "    <tr style=\"text-align: right;\">\n",
       "      <th></th>\n",
       "      <th>feature</th>\n",
       "      <th>entropy</th>\n",
       "      <th>value</th>\n",
       "    </tr>\n",
       "  </thead>\n",
       "  <tbody>\n",
       "    <tr>\n",
       "      <th>4</th>\n",
       "      <td>sex</td>\n",
       "      <td>0.736954</td>\n",
       "      <td>0</td>\n",
       "    </tr>\n",
       "    <tr>\n",
       "      <th>2</th>\n",
       "      <td>pclass</td>\n",
       "      <td>0.894528</td>\n",
       "      <td>2</td>\n",
       "    </tr>\n",
       "    <tr>\n",
       "      <th>3</th>\n",
       "      <td>pclass</td>\n",
       "      <td>0.896097</td>\n",
       "      <td>1</td>\n",
       "    </tr>\n",
       "    <tr>\n",
       "      <th>109</th>\n",
       "      <td>embarked</td>\n",
       "      <td>0.923385</td>\n",
       "      <td>0</td>\n",
       "    </tr>\n",
       "    <tr>\n",
       "      <th>110</th>\n",
       "      <td>embarked</td>\n",
       "      <td>0.930889</td>\n",
       "      <td>1</td>\n",
       "    </tr>\n",
       "    <tr>\n",
       "      <th>52</th>\n",
       "      <td>age</td>\n",
       "      <td>0.932815</td>\n",
       "      <td>8</td>\n",
       "    </tr>\n",
       "    <tr>\n",
       "      <th>12</th>\n",
       "      <td>age</td>\n",
       "      <td>0.933450</td>\n",
       "      <td>9</td>\n",
       "    </tr>\n",
       "    <tr>\n",
       "      <th>31</th>\n",
       "      <td>age</td>\n",
       "      <td>0.933602</td>\n",
       "      <td>5</td>\n",
       "    </tr>\n",
       "    <tr>\n",
       "      <th>90</th>\n",
       "      <td>age</td>\n",
       "      <td>0.933683</td>\n",
       "      <td>7</td>\n",
       "    </tr>\n",
       "    <tr>\n",
       "      <th>45</th>\n",
       "      <td>age</td>\n",
       "      <td>0.934535</td>\n",
       "      <td>6</td>\n",
       "    </tr>\n",
       "    <tr>\n",
       "      <th>13</th>\n",
       "      <td>age</td>\n",
       "      <td>0.935412</td>\n",
       "      <td>15</td>\n",
       "    </tr>\n",
       "    <tr>\n",
       "      <th>58</th>\n",
       "      <td>age</td>\n",
       "      <td>0.935544</td>\n",
       "      <td>16</td>\n",
       "    </tr>\n",
       "    <tr>\n",
       "      <th>72</th>\n",
       "      <td>age</td>\n",
       "      <td>0.936147</td>\n",
       "      <td>10</td>\n",
       "    </tr>\n",
       "    <tr>\n",
       "      <th>42</th>\n",
       "      <td>age</td>\n",
       "      <td>0.936209</td>\n",
       "      <td>4</td>\n",
       "    </tr>\n",
       "    <tr>\n",
       "      <th>80</th>\n",
       "      <td>age</td>\n",
       "      <td>0.936222</td>\n",
       "      <td>13</td>\n",
       "    </tr>\n",
       "    <tr>\n",
       "      <th>65</th>\n",
       "      <td>age</td>\n",
       "      <td>0.936425</td>\n",
       "      <td>14</td>\n",
       "    </tr>\n",
       "    <tr>\n",
       "      <th>6</th>\n",
       "      <td>age</td>\n",
       "      <td>0.936977</td>\n",
       "      <td>17</td>\n",
       "    </tr>\n",
       "    <tr>\n",
       "      <th>94</th>\n",
       "      <td>age</td>\n",
       "      <td>0.937109</td>\n",
       "      <td>12</td>\n",
       "    </tr>\n",
       "    <tr>\n",
       "      <th>95</th>\n",
       "      <td>age</td>\n",
       "      <td>0.937446</td>\n",
       "      <td>14.5</td>\n",
       "    </tr>\n",
       "    <tr>\n",
       "      <th>74</th>\n",
       "      <td>age</td>\n",
       "      <td>0.937874</td>\n",
       "      <td>11</td>\n",
       "    </tr>\n",
       "    <tr>\n",
       "      <th>101</th>\n",
       "      <td>sibsp</td>\n",
       "      <td>0.937905</td>\n",
       "      <td>0</td>\n",
       "    </tr>\n",
       "  </tbody>\n",
       "</table>\n",
       "</div>"
      ],
      "text/plain": [
       "      feature   entropy value\n",
       "4         sex  0.736954     0\n",
       "2      pclass  0.894528     2\n",
       "3      pclass  0.896097     1\n",
       "109  embarked  0.923385     0\n",
       "110  embarked  0.930889     1\n",
       "52        age  0.932815     8\n",
       "12        age  0.933450     9\n",
       "31        age  0.933602     5\n",
       "90        age  0.933683     7\n",
       "45        age  0.934535     6\n",
       "13        age  0.935412    15\n",
       "58        age  0.935544    16\n",
       "72        age  0.936147    10\n",
       "42        age  0.936209     4\n",
       "80        age  0.936222    13\n",
       "65        age  0.936425    14\n",
       "6         age  0.936977    17\n",
       "94        age  0.937109    12\n",
       "95        age  0.937446  14.5\n",
       "74        age  0.937874    11\n",
       "101     sibsp  0.937905     0"
      ]
     },
     "execution_count": 31,
     "metadata": {},
     "output_type": "execute_result"
    }
   ],
   "source": [
    "#Calculate best split\n",
    "\n",
    "cols = ['pclass', 'sex','age','sibsp','embarked']\n",
    "result = pd.DataFrame(columns = ['feature', 'entropy', 'value'])\n",
    "for i in cols:\n",
    "        for elem in training_set[i].unique():\n",
    "            training_set['class'] = np.where(training_set[i] > elem, 1,0)\n",
    "            en = information_gain(training_set, 'class')\n",
    "            idx = len(result) + 1\n",
    "            result.loc[idx] = [i,en,elem]\n",
    "result.sort_values(by='entropy').head(21)"
   ]
  },
  {
   "cell_type": "code",
   "execution_count": 32,
   "metadata": {},
   "outputs": [],
   "source": [
    "def split_data(data, cols):\n",
    "    #Splits the data based on the best split boundary for a variable\n",
    "    result  = pd.DataFrame(columns = ['feature', 'entropy', 'value'])\n",
    "    for i in cols:\n",
    "        for elem in data[i].unique():\n",
    "            data['class'] = np.where(data[i] > elem, 1,0)\n",
    "            en = information_gain(data, 'class')\n",
    "            idx = len(result) + 1\n",
    "            result.loc[idx] = [i,en,elem]\n",
    "    return(result[result['entropy'] == result['entropy'].min()])"
   ]
  },
  {
   "cell_type": "code",
   "execution_count": 33,
   "metadata": {},
   "outputs": [
    {
     "data": {
      "text/html": [
       "<div>\n",
       "<style scoped>\n",
       "    .dataframe tbody tr th:only-of-type {\n",
       "        vertical-align: middle;\n",
       "    }\n",
       "\n",
       "    .dataframe tbody tr th {\n",
       "        vertical-align: top;\n",
       "    }\n",
       "\n",
       "    .dataframe thead th {\n",
       "        text-align: right;\n",
       "    }\n",
       "</style>\n",
       "<table border=\"1\" class=\"dataframe\">\n",
       "  <thead>\n",
       "    <tr style=\"text-align: right;\">\n",
       "      <th></th>\n",
       "      <th>feature</th>\n",
       "      <th>entropy</th>\n",
       "      <th>value</th>\n",
       "    </tr>\n",
       "  </thead>\n",
       "  <tbody>\n",
       "    <tr>\n",
       "      <th>377</th>\n",
       "      <td>sex</td>\n",
       "      <td>0.736954</td>\n",
       "      <td>0</td>\n",
       "    </tr>\n",
       "  </tbody>\n",
       "</table>\n",
       "</div>"
      ],
      "text/plain": [
       "    feature   entropy value\n",
       "377     sex  0.736954     0"
      ]
     },
     "execution_count": 33,
     "metadata": {},
     "output_type": "execute_result"
    }
   ],
   "source": [
    "split(training_set,['pclass', 'age', 'sibsp', 'parch', 'fare', 'sex', 'embarked'])"
   ]
  },
  {
   "cell_type": "code",
   "execution_count": 34,
   "metadata": {},
   "outputs": [],
   "source": [
    "def percentage_survived(data):\n",
    "    \"\"\"\n",
    "    a function that prints the percentage of survived and not survived on each branch given data and split point\n",
    "    \"\"\"\n",
    "    \n",
    "    if(len(data['survived'].unique()) > 0):\n",
    "        a = len(data[data['survived'] == 1])/len(data)*100\n",
    "        b = len(data[data['survived'] == 0])/len(data)*100\n",
    "    \n",
    "    else:   \n",
    "        if(data['survived'].unique() == 0):\n",
    "            a = 100\n",
    "            b = 0\n",
    "        else:\n",
    "            a = 100\n",
    "            b = 0\n",
    "\n",
    "    return(a, b)"
   ]
  },
  {
   "cell_type": "code",
   "execution_count": 35,
   "metadata": {},
   "outputs": [],
   "source": [
    "training_set = training_set.drop('class',axis=1)"
   ]
  },
  {
   "cell_type": "code",
   "execution_count": 36,
   "metadata": {},
   "outputs": [],
   "source": [
    "training_set = training_set.dropna()"
   ]
  },
  {
   "cell_type": "code",
   "execution_count": 38,
   "metadata": {},
   "outputs": [],
   "source": [
    "# Making a tree to store the values which return from growTree\n",
    "result_tree = pd.DataFrame(columns = ['node', 'observation', 'Survived', 'Drowned', 'feature', 'value'])"
   ]
  },
  {
   "cell_type": "code",
   "execution_count": 39,
   "metadata": {},
   "outputs": [],
   "source": [
    "def growTree(data, path):\n",
    "    \"\"\"\n",
    "    A recursive function that implements the decision tree model and stores it in a dataframe\n",
    "    where \"root\" signifies root, \"L\" signifies left node and \"R\" signifies right node.\n",
    "    \"\"\"\n",
    "    #Drop the survived coloumn from the list of cols\n",
    "    cols = data.columns.drop(['survived'])\n",
    "    \n",
    "    #Split on the best boundary for the lowest entropy feature\n",
    "    a = split(data, cols)\n",
    "    \n",
    "    if(np.shape(a)[0]>1):\n",
    "        return(1)\n",
    "    \n",
    "    #Calculating the percentage of people survived and drowned at every step\n",
    "    survived, drowned = percentage_survived(data)\n",
    "    \n",
    "    feature = a['feature'].item()\n",
    "    best_value = a['value'].item()\n",
    "    \n",
    "    # Defining the left and right branch\n",
    "    data_left = data[data[feature] > best_value]\n",
    "    data_right = data.drop(index = data_left.index)\n",
    "    \n",
    "    #Populating the final dataset\n",
    "    idx = len(result_tree) + 1\n",
    "    result_tree.loc[idx] = [path, len(data),survived, drowned, feature, best_value]\n",
    "    \n",
    "    #Setting the stoping criterion\n",
    "    if(survived == 0 or drowned == 0):\n",
    "        idx = len(result_tree) + 1\n",
    "        pathleaf = path + 'leaf'\n",
    "        result_tree.loc[idx] = [pathleaf, len(data),survived, drowned, feature, best_value]\n",
    "        return(1)\n",
    "    else:\n",
    "        pathl = path + 'L'\n",
    "        pathr = path + 'R'\n",
    "        growTree(data_left, pathl)\n",
    "        growTree(data_right, pathr)  \n",
    "\n"
   ]
  },
  {
   "cell_type": "code",
   "execution_count": 40,
   "metadata": {},
   "outputs": [
    {
     "name": "stderr",
     "output_type": "stream",
     "text": [
      "C:\\Users\\prate\\Anaconda3\\lib\\site-packages\\ipykernel_launcher.py:10: SettingWithCopyWarning: \n",
      "A value is trying to be set on a copy of a slice from a DataFrame.\n",
      "Try using .loc[row_indexer,col_indexer] = value instead\n",
      "\n",
      "See the caveats in the documentation: http://pandas.pydata.org/pandas-docs/stable/indexing.html#indexing-view-versus-copy\n",
      "  # Remove the CWD from sys.path while we load stuff.\n"
     ]
    }
   ],
   "source": [
    "growTree(training_set, 'root')"
   ]
  },
  {
   "cell_type": "code",
   "execution_count": 41,
   "metadata": {},
   "outputs": [
    {
     "data": {
      "text/html": [
       "<div>\n",
       "<style scoped>\n",
       "    .dataframe tbody tr th:only-of-type {\n",
       "        vertical-align: middle;\n",
       "    }\n",
       "\n",
       "    .dataframe tbody tr th {\n",
       "        vertical-align: top;\n",
       "    }\n",
       "\n",
       "    .dataframe thead th {\n",
       "        text-align: right;\n",
       "    }\n",
       "</style>\n",
       "<table border=\"1\" class=\"dataframe\">\n",
       "  <thead>\n",
       "    <tr style=\"text-align: right;\">\n",
       "      <th></th>\n",
       "      <th>node</th>\n",
       "      <th>observation</th>\n",
       "      <th>Survived</th>\n",
       "      <th>Drowned</th>\n",
       "      <th>feature</th>\n",
       "      <th>value</th>\n",
       "    </tr>\n",
       "  </thead>\n",
       "  <tbody>\n",
       "    <tr>\n",
       "      <th>1</th>\n",
       "      <td>r</td>\n",
       "      <td>1046</td>\n",
       "      <td>36.520076</td>\n",
       "      <td>63.479924</td>\n",
       "      <td>sex</td>\n",
       "      <td>0</td>\n",
       "    </tr>\n",
       "  </tbody>\n",
       "</table>\n",
       "</div>"
      ],
      "text/plain": [
       "  node observation   Survived    Drowned feature value\n",
       "1    r        1046  36.520076  63.479924     sex     0"
      ]
     },
     "execution_count": 41,
     "metadata": {},
     "output_type": "execute_result"
    }
   ],
   "source": [
    "result_tree[result_tree['node']=='root']"
   ]
  },
  {
   "cell_type": "code",
   "execution_count": 42,
   "metadata": {},
   "outputs": [
    {
     "data": {
      "text/html": [
       "<div>\n",
       "<style scoped>\n",
       "    .dataframe tbody tr th:only-of-type {\n",
       "        vertical-align: middle;\n",
       "    }\n",
       "\n",
       "    .dataframe tbody tr th {\n",
       "        vertical-align: top;\n",
       "    }\n",
       "\n",
       "    .dataframe thead th {\n",
       "        text-align: right;\n",
       "    }\n",
       "</style>\n",
       "<table border=\"1\" class=\"dataframe\">\n",
       "  <thead>\n",
       "    <tr style=\"text-align: right;\">\n",
       "      <th></th>\n",
       "      <th>node</th>\n",
       "      <th>observation</th>\n",
       "      <th>Survived</th>\n",
       "      <th>Drowned</th>\n",
       "      <th>feature</th>\n",
       "      <th>value</th>\n",
       "    </tr>\n",
       "  </thead>\n",
       "  <tbody>\n",
       "    <tr>\n",
       "      <th>2</th>\n",
       "      <td>rL</td>\n",
       "      <td>370</td>\n",
       "      <td>71.351351</td>\n",
       "      <td>28.648649</td>\n",
       "      <td>pclass</td>\n",
       "      <td>2</td>\n",
       "    </tr>\n",
       "  </tbody>\n",
       "</table>\n",
       "</div>"
      ],
      "text/plain": [
       "  node observation   Survived    Drowned feature value\n",
       "2   rL         370  71.351351  28.648649  pclass     2"
      ]
     },
     "execution_count": 42,
     "metadata": {},
     "output_type": "execute_result"
    }
   ],
   "source": [
    "result_tree[result_tree['node']=='rootL']"
   ]
  },
  {
   "cell_type": "code",
   "execution_count": 43,
   "metadata": {},
   "outputs": [
    {
     "data": {
      "text/html": [
       "<div>\n",
       "<style scoped>\n",
       "    .dataframe tbody tr th:only-of-type {\n",
       "        vertical-align: middle;\n",
       "    }\n",
       "\n",
       "    .dataframe tbody tr th {\n",
       "        vertical-align: top;\n",
       "    }\n",
       "\n",
       "    .dataframe thead th {\n",
       "        text-align: right;\n",
       "    }\n",
       "</style>\n",
       "<table border=\"1\" class=\"dataframe\">\n",
       "  <thead>\n",
       "    <tr style=\"text-align: right;\">\n",
       "      <th></th>\n",
       "      <th>node</th>\n",
       "      <th>observation</th>\n",
       "      <th>Survived</th>\n",
       "      <th>Drowned</th>\n",
       "      <th>feature</th>\n",
       "      <th>value</th>\n",
       "    </tr>\n",
       "  </thead>\n",
       "  <tbody>\n",
       "    <tr>\n",
       "      <th>37</th>\n",
       "      <td>rR</td>\n",
       "      <td>676</td>\n",
       "      <td>17.455621</td>\n",
       "      <td>82.544379</td>\n",
       "      <td>age</td>\n",
       "      <td>9</td>\n",
       "    </tr>\n",
       "  </tbody>\n",
       "</table>\n",
       "</div>"
      ],
      "text/plain": [
       "   node observation   Survived    Drowned feature value\n",
       "37   rR         676  17.455621  82.544379     age     9"
      ]
     },
     "execution_count": 43,
     "metadata": {},
     "output_type": "execute_result"
    }
   ],
   "source": [
    "result_tree[result_tree['node']=='rootR']"
   ]
  },
  {
   "cell_type": "code",
   "execution_count": 44,
   "metadata": {},
   "outputs": [
    {
     "data": {
      "text/html": [
       "<div>\n",
       "<style scoped>\n",
       "    .dataframe tbody tr th:only-of-type {\n",
       "        vertical-align: middle;\n",
       "    }\n",
       "\n",
       "    .dataframe tbody tr th {\n",
       "        vertical-align: top;\n",
       "    }\n",
       "\n",
       "    .dataframe thead th {\n",
       "        text-align: right;\n",
       "    }\n",
       "</style>\n",
       "<table border=\"1\" class=\"dataframe\">\n",
       "  <thead>\n",
       "    <tr style=\"text-align: right;\">\n",
       "      <th></th>\n",
       "      <th>node</th>\n",
       "      <th>observation</th>\n",
       "      <th>Survived</th>\n",
       "      <th>Drowned</th>\n",
       "      <th>feature</th>\n",
       "      <th>value</th>\n",
       "    </tr>\n",
       "  </thead>\n",
       "  <tbody>\n",
       "    <tr>\n",
       "      <th>3</th>\n",
       "      <td>rLL</td>\n",
       "      <td>175</td>\n",
       "      <td>46.857143</td>\n",
       "      <td>53.142857</td>\n",
       "      <td>fare</td>\n",
       "      <td>23.25</td>\n",
       "    </tr>\n",
       "  </tbody>\n",
       "</table>\n",
       "</div>"
      ],
      "text/plain": [
       "  node observation   Survived    Drowned feature  value\n",
       "3  rLL         175  46.857143  53.142857    fare  23.25"
      ]
     },
     "execution_count": 44,
     "metadata": {},
     "output_type": "execute_result"
    }
   ],
   "source": [
    "result_tree[result_tree['node']=='rootLL']"
   ]
  },
  {
   "cell_type": "code",
   "execution_count": 45,
   "metadata": {},
   "outputs": [
    {
     "data": {
      "text/html": [
       "<div>\n",
       "<style scoped>\n",
       "    .dataframe tbody tr th:only-of-type {\n",
       "        vertical-align: middle;\n",
       "    }\n",
       "\n",
       "    .dataframe tbody tr th {\n",
       "        vertical-align: top;\n",
       "    }\n",
       "\n",
       "    .dataframe thead th {\n",
       "        text-align: right;\n",
       "    }\n",
       "</style>\n",
       "<table border=\"1\" class=\"dataframe\">\n",
       "  <thead>\n",
       "    <tr style=\"text-align: right;\">\n",
       "      <th></th>\n",
       "      <th>node</th>\n",
       "      <th>observation</th>\n",
       "      <th>Survived</th>\n",
       "      <th>Drowned</th>\n",
       "      <th>feature</th>\n",
       "      <th>value</th>\n",
       "    </tr>\n",
       "  </thead>\n",
       "  <tbody>\n",
       "    <tr>\n",
       "      <th>23</th>\n",
       "      <td>rLR</td>\n",
       "      <td>195</td>\n",
       "      <td>93.333333</td>\n",
       "      <td>6.666667</td>\n",
       "      <td>fare</td>\n",
       "      <td>31.6792</td>\n",
       "    </tr>\n",
       "  </tbody>\n",
       "</table>\n",
       "</div>"
      ],
      "text/plain": [
       "   node observation   Survived   Drowned feature    value\n",
       "23  rLR         195  93.333333  6.666667    fare  31.6792"
      ]
     },
     "execution_count": 45,
     "metadata": {},
     "output_type": "execute_result"
    }
   ],
   "source": [
    "result_tree[result_tree['node']=='rootLR']"
   ]
  },
  {
   "cell_type": "code",
   "execution_count": 46,
   "metadata": {},
   "outputs": [
    {
     "data": {
      "text/html": [
       "<div>\n",
       "<style scoped>\n",
       "    .dataframe tbody tr th:only-of-type {\n",
       "        vertical-align: middle;\n",
       "    }\n",
       "\n",
       "    .dataframe tbody tr th {\n",
       "        vertical-align: top;\n",
       "    }\n",
       "\n",
       "    .dataframe thead th {\n",
       "        text-align: right;\n",
       "    }\n",
       "</style>\n",
       "<table border=\"1\" class=\"dataframe\">\n",
       "  <thead>\n",
       "    <tr style=\"text-align: right;\">\n",
       "      <th></th>\n",
       "      <th>node</th>\n",
       "      <th>observation</th>\n",
       "      <th>Survived</th>\n",
       "      <th>Drowned</th>\n",
       "      <th>feature</th>\n",
       "      <th>value</th>\n",
       "    </tr>\n",
       "  </thead>\n",
       "  <tbody>\n",
       "    <tr>\n",
       "      <th>38</th>\n",
       "      <td>rRL</td>\n",
       "      <td>641</td>\n",
       "      <td>15.132605</td>\n",
       "      <td>84.867395</td>\n",
       "      <td>pclass</td>\n",
       "      <td>1</td>\n",
       "    </tr>\n",
       "  </tbody>\n",
       "</table>\n",
       "</div>"
      ],
      "text/plain": [
       "   node observation   Survived    Drowned feature value\n",
       "38  rRL         641  15.132605  84.867395  pclass     1"
      ]
     },
     "execution_count": 46,
     "metadata": {},
     "output_type": "execute_result"
    }
   ],
   "source": [
    "result_tree[result_tree['node']=='rootRL']"
   ]
  },
  {
   "cell_type": "code",
   "execution_count": 47,
   "metadata": {},
   "outputs": [
    {
     "data": {
      "text/html": [
       "<div>\n",
       "<style scoped>\n",
       "    .dataframe tbody tr th:only-of-type {\n",
       "        vertical-align: middle;\n",
       "    }\n",
       "\n",
       "    .dataframe tbody tr th {\n",
       "        vertical-align: top;\n",
       "    }\n",
       "\n",
       "    .dataframe thead th {\n",
       "        text-align: right;\n",
       "    }\n",
       "</style>\n",
       "<table border=\"1\" class=\"dataframe\">\n",
       "  <thead>\n",
       "    <tr style=\"text-align: right;\">\n",
       "      <th></th>\n",
       "      <th>node</th>\n",
       "      <th>observation</th>\n",
       "      <th>Survived</th>\n",
       "      <th>Drowned</th>\n",
       "      <th>feature</th>\n",
       "      <th>value</th>\n",
       "    </tr>\n",
       "  </thead>\n",
       "  <tbody>\n",
       "    <tr>\n",
       "      <th>71</th>\n",
       "      <td>rRR</td>\n",
       "      <td>35</td>\n",
       "      <td>60.0</td>\n",
       "      <td>40.0</td>\n",
       "      <td>sibsp</td>\n",
       "      <td>2</td>\n",
       "    </tr>\n",
       "  </tbody>\n",
       "</table>\n",
       "</div>"
      ],
      "text/plain": [
       "   node observation  Survived  Drowned feature value\n",
       "71  rRR          35      60.0     40.0   sibsp     2"
      ]
     },
     "execution_count": 47,
     "metadata": {},
     "output_type": "execute_result"
    }
   ],
   "source": [
    "result_tree[result_tree['node']=='rootRR']"
   ]
  },
  {
   "attachments": {
    "Screen%20Shot%202018-06-04%20at%203.19.41%20AM.png": {
     "image/png": "[encoded data removed]"
    }
   },
   "cell_type": "markdown",
   "metadata": {},
   "source": [
    "![Screen%20Shot%202018-06-04%20at%203.19.41%20AM.png](attachment:Screen%20Shot%202018-06-04%20at%203.19.41%20AM.png)"
   ]
  },
  {
   "cell_type": "code",
   "execution_count": 48,
   "metadata": {},
   "outputs": [],
   "source": [
    "training_set = training_set.drop('class',axis=1)"
   ]
  },
  {
   "cell_type": "code",
   "execution_count": 49,
   "metadata": {},
   "outputs": [],
   "source": [
    "# Prediction function for the decision tree\n",
    "path = 'root'\n",
    "def prediction(row, path):\n",
    "    r = result_tree[result_tree['node'] == path]\n",
    "\n",
    "    if(len(r.index) == 0):\n",
    "        path = path[:-1]\n",
    "        r = result_tree[result_tree['node'] == path]\n",
    "        x = np.where(r['Survived'].item() > r['Drowned'].item(), 1, 0)\n",
    "        return(x.item())\n",
    "    \n",
    "    else:\n",
    "        if(row[r['feature'].item()].item() > r['value'].item()):\n",
    "            path = path + 'L'\n",
    "            return(prediction(row, path))\n",
    "        \n",
    "        else:\n",
    "            path = path + 'R'\n",
    "            return(prediction(row, path))"
   ]
  },
  {
   "cell_type": "code",
   "execution_count": 50,
   "metadata": {},
   "outputs": [
    {
     "data": {
      "text/plain": [
       "262"
      ]
     },
     "execution_count": 50,
     "metadata": {},
     "output_type": "execute_result"
    }
   ],
   "source": [
    "# Checking on the test set\n",
    "\n",
    "results = []\n",
    "\n",
    "for elem in test_set.iterrows():\n",
    "    temp = pd.DataFrame(list(elem)[1:], columns = ['pclass', 'age', 'sibsp', 'parch', 'fare', 'sex', 'embarked'])\n",
    "    path = 'r'\n",
    "    t = prediction(temp, 'r')\n",
    "    results.append(t)\n",
    "\n",
    "len(results)"
   ]
  },
  {
   "cell_type": "code",
   "execution_count": 51,
   "metadata": {},
   "outputs": [],
   "source": [
    "test_set['p'] = results"
   ]
  },
  {
   "cell_type": "code",
   "execution_count": 52,
   "metadata": {},
   "outputs": [
    {
     "data": {
      "text/plain": [
       "75.19083969465649"
      ]
     },
     "execution_count": 52,
     "metadata": {},
     "output_type": "execute_result"
    }
   ],
   "source": [
    "(accuracy_score(test_set['survived'],test_set['p']))*100"
   ]
  },
  {
   "cell_type": "code",
   "execution_count": 53,
   "metadata": {},
   "outputs": [
    {
     "data": {
      "text/plain": [
       "0.8271604938271605"
      ]
     },
     "execution_count": 53,
     "metadata": {},
     "output_type": "execute_result"
    }
   ],
   "source": [
    "precision_score(test_set['survived'],test_set['p'])"
   ]
  },
  {
   "cell_type": "code",
   "execution_count": 54,
   "metadata": {},
   "outputs": [
    {
     "data": {
      "text/plain": [
       "0.5677966101694916"
      ]
     },
     "execution_count": 54,
     "metadata": {},
     "output_type": "execute_result"
    }
   ],
   "source": [
    "recall_score(test_set['survived'],test_set['p'])"
   ]
  },
  {
   "cell_type": "markdown",
   "metadata": {},
   "source": [
    "## Bagging and Random Forest"
   ]
  },
  {
   "cell_type": "markdown",
   "metadata": {},
   "source": [
    "### Bagging"
   ]
  },
  {
   "cell_type": "code",
   "execution_count": 55,
   "metadata": {},
   "outputs": [
    {
     "name": "stderr",
     "output_type": "stream",
     "text": [
      "C:\\Users\\prate\\Anaconda3\\lib\\site-packages\\ipykernel_launcher.py:10: SettingWithCopyWarning: \n",
      "A value is trying to be set on a copy of a slice from a DataFrame.\n",
      "Try using .loc[row_indexer,col_indexer] = value instead\n",
      "\n",
      "See the caveats in the documentation: http://pandas.pydata.org/pandas-docs/stable/indexing.html#indexing-view-versus-copy\n",
      "  # Remove the CWD from sys.path while we load stuff.\n"
     ]
    }
   ],
   "source": [
    "# Doing for 5 bags with N samples each from a training set of N samples where N = 262\n",
    "\n",
    "# defining a dataframe for bagging to store results\n",
    "bagging = pd.DataFrame(columns = ['bag1', 'bag2','bag3','bag4','bag5'])\n",
    "\n",
    "\n",
    "for elem in bagging.columns:\n",
    "    \n",
    "    #Defining a tree to store decision tree results for each individual bag\n",
    "    result_tree = pd.DataFrame(columns = ['node', 'observation', 'Survived', 'Drowned', 'feature', 'value'])\n",
    "    \n",
    "    #Drawing 300 samples with replacement\n",
    "    bag_train = training_set.sample(n=300, replace = True)\n",
    "    \n",
    "    #Running decision tree to populate result_tree dataframe\n",
    "    growTree(bag_train, 'r')\n",
    "    \n",
    "    result = []\n",
    "    \n",
    "    d_final_test = test_set[['pclass', 'age', 'sibsp', 'parch', 'fare', 'sex', 'embarked']].dropna()\n",
    "    \n",
    "    #Making predictions on the test set\n",
    "    for e in d_final_test.iterrows():\n",
    "        temp = pd.DataFrame(list(e)[1:], columns = ['pclass', 'age', 'sibsp', 'parch', 'fare', 'sex', 'embarked'])\n",
    "        t = prediction(temp,'r')\n",
    "        result.append(t)\n",
    "    #Populating the bagging dataset with predictions for each bag    \n",
    "    bagging[elem] = result"
   ]
  },
  {
   "cell_type": "code",
   "execution_count": 56,
   "metadata": {},
   "outputs": [
    {
     "data": {
      "text/html": [
       "<div>\n",
       "<style scoped>\n",
       "    .dataframe tbody tr th:only-of-type {\n",
       "        vertical-align: middle;\n",
       "    }\n",
       "\n",
       "    .dataframe tbody tr th {\n",
       "        vertical-align: top;\n",
       "    }\n",
       "\n",
       "    .dataframe thead th {\n",
       "        text-align: right;\n",
       "    }\n",
       "</style>\n",
       "<table border=\"1\" class=\"dataframe\">\n",
       "  <thead>\n",
       "    <tr style=\"text-align: right;\">\n",
       "      <th></th>\n",
       "      <th>bag1</th>\n",
       "      <th>bag2</th>\n",
       "      <th>bag3</th>\n",
       "      <th>bag4</th>\n",
       "      <th>bag5</th>\n",
       "    </tr>\n",
       "  </thead>\n",
       "  <tbody>\n",
       "    <tr>\n",
       "      <th>0</th>\n",
       "      <td>0</td>\n",
       "      <td>0</td>\n",
       "      <td>1</td>\n",
       "      <td>0</td>\n",
       "      <td>0</td>\n",
       "    </tr>\n",
       "    <tr>\n",
       "      <th>1</th>\n",
       "      <td>0</td>\n",
       "      <td>0</td>\n",
       "      <td>0</td>\n",
       "      <td>0</td>\n",
       "      <td>0</td>\n",
       "    </tr>\n",
       "    <tr>\n",
       "      <th>2</th>\n",
       "      <td>0</td>\n",
       "      <td>0</td>\n",
       "      <td>0</td>\n",
       "      <td>0</td>\n",
       "      <td>0</td>\n",
       "    </tr>\n",
       "    <tr>\n",
       "      <th>3</th>\n",
       "      <td>0</td>\n",
       "      <td>0</td>\n",
       "      <td>0</td>\n",
       "      <td>0</td>\n",
       "      <td>0</td>\n",
       "    </tr>\n",
       "    <tr>\n",
       "      <th>4</th>\n",
       "      <td>0</td>\n",
       "      <td>0</td>\n",
       "      <td>0</td>\n",
       "      <td>0</td>\n",
       "      <td>0</td>\n",
       "    </tr>\n",
       "    <tr>\n",
       "      <th>5</th>\n",
       "      <td>1</td>\n",
       "      <td>0</td>\n",
       "      <td>0</td>\n",
       "      <td>0</td>\n",
       "      <td>0</td>\n",
       "    </tr>\n",
       "    <tr>\n",
       "      <th>6</th>\n",
       "      <td>0</td>\n",
       "      <td>0</td>\n",
       "      <td>0</td>\n",
       "      <td>0</td>\n",
       "      <td>0</td>\n",
       "    </tr>\n",
       "    <tr>\n",
       "      <th>7</th>\n",
       "      <td>0</td>\n",
       "      <td>0</td>\n",
       "      <td>0</td>\n",
       "      <td>0</td>\n",
       "      <td>0</td>\n",
       "    </tr>\n",
       "    <tr>\n",
       "      <th>8</th>\n",
       "      <td>0</td>\n",
       "      <td>0</td>\n",
       "      <td>0</td>\n",
       "      <td>0</td>\n",
       "      <td>0</td>\n",
       "    </tr>\n",
       "    <tr>\n",
       "      <th>9</th>\n",
       "      <td>1</td>\n",
       "      <td>1</td>\n",
       "      <td>1</td>\n",
       "      <td>1</td>\n",
       "      <td>1</td>\n",
       "    </tr>\n",
       "    <tr>\n",
       "      <th>10</th>\n",
       "      <td>0</td>\n",
       "      <td>0</td>\n",
       "      <td>0</td>\n",
       "      <td>0</td>\n",
       "      <td>0</td>\n",
       "    </tr>\n",
       "    <tr>\n",
       "      <th>11</th>\n",
       "      <td>0</td>\n",
       "      <td>0</td>\n",
       "      <td>0</td>\n",
       "      <td>0</td>\n",
       "      <td>0</td>\n",
       "    </tr>\n",
       "    <tr>\n",
       "      <th>12</th>\n",
       "      <td>1</td>\n",
       "      <td>1</td>\n",
       "      <td>1</td>\n",
       "      <td>0</td>\n",
       "      <td>0</td>\n",
       "    </tr>\n",
       "    <tr>\n",
       "      <th>13</th>\n",
       "      <td>0</td>\n",
       "      <td>0</td>\n",
       "      <td>0</td>\n",
       "      <td>0</td>\n",
       "      <td>0</td>\n",
       "    </tr>\n",
       "    <tr>\n",
       "      <th>14</th>\n",
       "      <td>0</td>\n",
       "      <td>0</td>\n",
       "      <td>0</td>\n",
       "      <td>0</td>\n",
       "      <td>0</td>\n",
       "    </tr>\n",
       "  </tbody>\n",
       "</table>\n",
       "</div>"
      ],
      "text/plain": [
       "    bag1  bag2  bag3  bag4  bag5\n",
       "0      0     0     1     0     0\n",
       "1      0     0     0     0     0\n",
       "2      0     0     0     0     0\n",
       "3      0     0     0     0     0\n",
       "4      0     0     0     0     0\n",
       "5      1     0     0     0     0\n",
       "6      0     0     0     0     0\n",
       "7      0     0     0     0     0\n",
       "8      0     0     0     0     0\n",
       "9      1     1     1     1     1\n",
       "10     0     0     0     0     0\n",
       "11     0     0     0     0     0\n",
       "12     1     1     1     0     0\n",
       "13     0     0     0     0     0\n",
       "14     0     0     0     0     0"
      ]
     },
     "execution_count": 56,
     "metadata": {},
     "output_type": "execute_result"
    }
   ],
   "source": [
    "# Predictions for each bag\n",
    "bagging.head(15)"
   ]
  },
  {
   "cell_type": "code",
   "execution_count": 57,
   "metadata": {},
   "outputs": [],
   "source": [
    "bagging['majority']=''"
   ]
  },
  {
   "cell_type": "code",
   "execution_count": 58,
   "metadata": {},
   "outputs": [
    {
     "name": "stderr",
     "output_type": "stream",
     "text": [
      "C:\\Users\\prate\\Anaconda3\\lib\\site-packages\\pandas\\core\\indexing.py:194: SettingWithCopyWarning: \n",
      "A value is trying to be set on a copy of a slice from a DataFrame\n",
      "\n",
      "See the caveats in the documentation: http://pandas.pydata.org/pandas-docs/stable/indexing.html#indexing-view-versus-copy\n",
      "  self._setitem_with_indexer(indexer, value)\n"
     ]
    }
   ],
   "source": [
    "# Finding majority values for each bag using mode\n",
    "\n",
    "for i in range(0,len(bagging)):\n",
    "    bagging['majority'].iloc[i] = mode(list(bagging.iloc[i])[0:5])"
   ]
  },
  {
   "cell_type": "code",
   "execution_count": 59,
   "metadata": {},
   "outputs": [
    {
     "data": {
      "text/html": [
       "<div>\n",
       "<style scoped>\n",
       "    .dataframe tbody tr th:only-of-type {\n",
       "        vertical-align: middle;\n",
       "    }\n",
       "\n",
       "    .dataframe tbody tr th {\n",
       "        vertical-align: top;\n",
       "    }\n",
       "\n",
       "    .dataframe thead th {\n",
       "        text-align: right;\n",
       "    }\n",
       "</style>\n",
       "<table border=\"1\" class=\"dataframe\">\n",
       "  <thead>\n",
       "    <tr style=\"text-align: right;\">\n",
       "      <th></th>\n",
       "      <th>bag1</th>\n",
       "      <th>bag2</th>\n",
       "      <th>bag3</th>\n",
       "      <th>bag4</th>\n",
       "      <th>bag5</th>\n",
       "      <th>majority</th>\n",
       "    </tr>\n",
       "  </thead>\n",
       "  <tbody>\n",
       "    <tr>\n",
       "      <th>252</th>\n",
       "      <td>1</td>\n",
       "      <td>0</td>\n",
       "      <td>1</td>\n",
       "      <td>0</td>\n",
       "      <td>0</td>\n",
       "      <td>0</td>\n",
       "    </tr>\n",
       "    <tr>\n",
       "      <th>253</th>\n",
       "      <td>1</td>\n",
       "      <td>1</td>\n",
       "      <td>1</td>\n",
       "      <td>1</td>\n",
       "      <td>1</td>\n",
       "      <td>1</td>\n",
       "    </tr>\n",
       "    <tr>\n",
       "      <th>254</th>\n",
       "      <td>0</td>\n",
       "      <td>0</td>\n",
       "      <td>0</td>\n",
       "      <td>0</td>\n",
       "      <td>0</td>\n",
       "      <td>0</td>\n",
       "    </tr>\n",
       "    <tr>\n",
       "      <th>255</th>\n",
       "      <td>0</td>\n",
       "      <td>0</td>\n",
       "      <td>0</td>\n",
       "      <td>0</td>\n",
       "      <td>0</td>\n",
       "      <td>0</td>\n",
       "    </tr>\n",
       "    <tr>\n",
       "      <th>256</th>\n",
       "      <td>0</td>\n",
       "      <td>0</td>\n",
       "      <td>0</td>\n",
       "      <td>0</td>\n",
       "      <td>1</td>\n",
       "      <td>0</td>\n",
       "    </tr>\n",
       "    <tr>\n",
       "      <th>257</th>\n",
       "      <td>1</td>\n",
       "      <td>1</td>\n",
       "      <td>1</td>\n",
       "      <td>1</td>\n",
       "      <td>1</td>\n",
       "      <td>1</td>\n",
       "    </tr>\n",
       "    <tr>\n",
       "      <th>258</th>\n",
       "      <td>0</td>\n",
       "      <td>0</td>\n",
       "      <td>0</td>\n",
       "      <td>0</td>\n",
       "      <td>0</td>\n",
       "      <td>0</td>\n",
       "    </tr>\n",
       "    <tr>\n",
       "      <th>259</th>\n",
       "      <td>1</td>\n",
       "      <td>0</td>\n",
       "      <td>1</td>\n",
       "      <td>0</td>\n",
       "      <td>0</td>\n",
       "      <td>0</td>\n",
       "    </tr>\n",
       "    <tr>\n",
       "      <th>260</th>\n",
       "      <td>0</td>\n",
       "      <td>0</td>\n",
       "      <td>0</td>\n",
       "      <td>0</td>\n",
       "      <td>1</td>\n",
       "      <td>0</td>\n",
       "    </tr>\n",
       "    <tr>\n",
       "      <th>261</th>\n",
       "      <td>1</td>\n",
       "      <td>1</td>\n",
       "      <td>1</td>\n",
       "      <td>1</td>\n",
       "      <td>1</td>\n",
       "      <td>1</td>\n",
       "    </tr>\n",
       "  </tbody>\n",
       "</table>\n",
       "</div>"
      ],
      "text/plain": [
       "     bag1  bag2  bag3  bag4  bag5  majority\n",
       "252     1     0     1     0     0         0\n",
       "253     1     1     1     1     1         1\n",
       "254     0     0     0     0     0         0\n",
       "255     0     0     0     0     0         0\n",
       "256     0     0     0     0     1         0\n",
       "257     1     1     1     1     1         1\n",
       "258     0     0     0     0     0         0\n",
       "259     1     0     1     0     0         0\n",
       "260     0     0     0     0     1         0\n",
       "261     1     1     1     1     1         1"
      ]
     },
     "execution_count": 59,
     "metadata": {},
     "output_type": "execute_result"
    }
   ],
   "source": [
    "bagging.tail(10)"
   ]
  },
  {
   "cell_type": "code",
   "execution_count": 60,
   "metadata": {},
   "outputs": [
    {
     "data": {
      "text/plain": [
       "70.99236641221374"
      ]
     },
     "execution_count": 60,
     "metadata": {},
     "output_type": "execute_result"
    }
   ],
   "source": [
    "(accuracy_score(test_set['survived'],bagging['majority']))*100"
   ]
  },
  {
   "cell_type": "code",
   "execution_count": 61,
   "metadata": {},
   "outputs": [
    {
     "data": {
      "text/plain": [
       "0.8088235294117647"
      ]
     },
     "execution_count": 61,
     "metadata": {},
     "output_type": "execute_result"
    }
   ],
   "source": [
    "precision_score(test_set['survived'],bagging['majority'])"
   ]
  },
  {
   "cell_type": "code",
   "execution_count": 62,
   "metadata": {},
   "outputs": [
    {
     "data": {
      "text/plain": [
       "0.4661016949152542"
      ]
     },
     "execution_count": 62,
     "metadata": {},
     "output_type": "execute_result"
    }
   ],
   "source": [
    "recall_score(test_set['survived'],bagging['majority'])"
   ]
  },
  {
   "cell_type": "markdown",
   "metadata": {},
   "source": [
    "There is a very slight change in accuracy on B=5 but is not very significant."
   ]
  },
  {
   "cell_type": "markdown",
   "metadata": {},
   "source": [
    "Extending this for B between 1 and 10. The code is computationally heavy and breaks my machine if I go over 10. (Discussed with professor)"
   ]
  },
  {
   "cell_type": "code",
   "execution_count": 63,
   "metadata": {},
   "outputs": [
    {
     "name": "stdout",
     "output_type": "stream",
     "text": [
      "Bags: 6\n"
     ]
    },
    {
     "name": "stderr",
     "output_type": "stream",
     "text": [
      "C:\\Users\\prate\\Anaconda3\\lib\\site-packages\\ipykernel_launcher.py:10: SettingWithCopyWarning: \n",
      "A value is trying to be set on a copy of a slice from a DataFrame.\n",
      "Try using .loc[row_indexer,col_indexer] = value instead\n",
      "\n",
      "See the caveats in the documentation: http://pandas.pydata.org/pandas-docs/stable/indexing.html#indexing-view-versus-copy\n",
      "  # Remove the CWD from sys.path while we load stuff.\n"
     ]
    },
    {
     "name": "stdout",
     "output_type": "stream",
     "text": [
      "  node observation   Survived    Drowned feature  value\n",
      "1    r        1046  36.998088  63.001912     sex      0\n",
      "2   rL         398  73.869347  26.130653  pclass      2\n",
      "3  rLL         186  51.612903  48.387097    fare  23.25\n",
      "  node observation   Survived    Drowned feature  value\n",
      "1    r        1046  36.042065  63.957935     sex      0\n",
      "2   rL         392  68.367347  31.632653  pclass      2\n",
      "3  rLL         189  42.857143  57.142857    fare  23.25\n",
      "  node observation   Survived    Drowned   feature value\n",
      "1    r        1046  35.659656  64.340344       sex     0\n",
      "2   rL         354  71.468927  28.531073    pclass     2\n",
      "3  rLL         164  49.390244  50.609756  embarked     1\n",
      "  node observation   Survived    Drowned feature  value\n",
      "1    r        1046  37.762906  62.237094     sex      0\n",
      "2   rL         358  74.022346  25.977654  pclass      2\n",
      "3  rLL         175  53.714286  46.285714    fare  23.25\n",
      "  node observation   Survived    Drowned feature   value\n",
      "1    r        1046  36.615679  63.384321     sex       0\n",
      "2   rL         379  73.087071  26.912929  pclass       2\n",
      "3  rLL         190  50.526316  49.473684    fare  20.575\n"
     ]
    },
    {
     "name": "stderr",
     "output_type": "stream",
     "text": [
      "C:\\Users\\prate\\Anaconda3\\lib\\site-packages\\pandas\\core\\indexing.py:194: SettingWithCopyWarning: \n",
      "A value is trying to be set on a copy of a slice from a DataFrame\n",
      "\n",
      "See the caveats in the documentation: http://pandas.pydata.org/pandas-docs/stable/indexing.html#indexing-view-versus-copy\n",
      "  self._setitem_with_indexer(indexer, value)\n"
     ]
    },
    {
     "name": "stdout",
     "output_type": "stream",
     "text": [
      "Accuracy 79.00763358778626\n",
      "Precision 0.8181818181818182\n",
      "Recall 0.6864406779661016\n",
      "Bags: 8\n",
      "  node observation   Survived    Drowned   feature value\n",
      "1    r        1046  35.372849  64.627151       sex     0\n",
      "2   rL         360  65.833333  34.166667    pclass     2\n",
      "3  rLL         175  36.571429  63.428571  embarked     0\n",
      "  node observation   Survived    Drowned feature    value\n",
      "1    r        1046  35.564054  64.435946     sex        0\n",
      "2   rL         371  72.776280  27.223720  pclass        2\n",
      "3  rLL         171  50.292398  49.707602    fare  22.3583\n",
      "  node observation   Survived    Drowned feature    value\n",
      "1    r        1046  35.850860  64.149140     sex        0\n",
      "2   rL         377  70.026525  29.973475  pclass        2\n",
      "3  rLL         191  45.549738  54.450262    fare  31.3875\n",
      "  node observation   Survived    Drowned feature  value\n",
      "1    r        1046  38.145315  61.854685     sex      0\n",
      "2   rL         384  75.260417  24.739583  pclass      2\n",
      "3  rLL         186  53.763441  46.236559    fare  23.25\n",
      "  node observation   Survived    Drowned feature  value\n",
      "1    r        1046  35.564054  64.435946     sex      0\n",
      "2   rL         355  69.859155  30.140845  pclass      2\n",
      "3  rLL         173  45.664740  54.335260    fare  23.25\n",
      "  node observation   Survived    Drowned feature value\n",
      "1    r        1046  36.615679  63.384321     sex     0\n",
      "2   rL         383  68.668407  31.331593  pclass     2\n",
      "3  rLL         189  47.089947  52.910053     age     1\n",
      "  node observation   Survived    Drowned feature  value\n",
      "1    r        1046  35.468451  64.531549     sex      0\n",
      "2   rL         366  68.579235  31.420765  pclass      2\n",
      "3  rLL         172  40.116279  59.883721    fare  23.25\n",
      "Accuracy 74.80916030534351\n",
      "Precision 0.8611111111111112\n",
      "Recall 0.5254237288135594\n",
      "Bags: 10\n",
      "  node observation   Survived    Drowned feature  value\n",
      "1    r        1046  38.432122  61.567878     sex      0\n",
      "2   rL         376  73.670213  26.329787  pclass      2\n",
      "3  rLL         159  44.025157  55.974843    fare  24.15\n",
      "  node observation   Survived    Drowned feature  value\n",
      "1    r        1046  35.468451  64.531549     sex      0\n",
      "2   rL         355  70.985915  29.014085  pclass      2\n",
      "3  rLL         163  45.398773  54.601227    fare  23.25\n",
      "  node observation   Survived    Drowned feature   value\n",
      "1    r        1046  33.556405  66.443595     sex       0\n",
      "2   rL         345  67.246377  32.753623  pclass       2\n",
      "3  rLL         156  39.102564  60.897436    fare  20.575\n",
      "  node observation   Survived    Drowned feature  value\n",
      "1    r        1046  38.910134  61.089866     sex      0\n",
      "2   rL         389  73.778920  26.221080  pclass      2\n",
      "3  rLL         166  43.975904  56.024096    fare  23.25\n",
      "  node observation   Survived    Drowned feature   value\n",
      "1    r        1046  36.233270  63.766730     sex       0\n",
      "2   rL         369  71.002710  28.997290  pclass       2\n",
      "3  rLL         172  45.348837  54.651163    fare  7.4958\n",
      "  node observation   Survived    Drowned feature  value\n",
      "1    r        1046  38.718929  61.281071     sex      0\n",
      "2   rL         362  73.204420  26.795580  pclass      2\n",
      "3  rLL         170  45.882353  54.117647    fare  23.25\n",
      "  node observation   Survived    Drowned feature  value\n",
      "1    r        1046  35.659656  64.340344     sex      0\n",
      "2   rL         376  70.744681  29.255319  pclass      2\n",
      "3  rLL         177  42.937853  57.062147    fare  23.25\n",
      "  node observation   Survived    Drowned feature    value\n",
      "1    r        1046  35.277247  64.722753     sex        0\n",
      "2   rL         358  70.391061  29.608939  pclass        2\n",
      "3  rLL         169  43.786982  56.213018    fare  31.3875\n",
      "  node observation   Survived    Drowned   feature value\n",
      "1    r        1046  37.667304  62.332696       sex     0\n",
      "2   rL         377  72.679045  27.320955    pclass     2\n",
      "3  rLL         159  45.283019  54.716981  embarked     1\n",
      "Accuracy 73.66412213740458\n",
      "Precision 0.8356164383561644\n",
      "Recall 0.5169491525423728\n"
     ]
    }
   ],
   "source": [
    "bags = [6,8,10]\n",
    "acc=[]\n",
    "p=[]\n",
    "r=[]\n",
    "for x in bags:\n",
    "    print('Bags:',x+1)\n",
    "    cols = []\n",
    "    for i in (range(0,x)):\n",
    "        a = 'bag'+str(i)\n",
    "        cols.append(a)\n",
    "\n",
    "    bagging = pd.DataFrame(columns = cols)\n",
    "\n",
    "    for elem in bagging.columns:\n",
    "        \n",
    "        #Defining a tree to store decision tree results for each individual bag\n",
    "        result_tree = pd.DataFrame(columns = ['node', 'observation', 'Survived', 'Drowned', 'feature', 'value'])\n",
    "\n",
    "        #Drawing N samples with replacement from N observations\n",
    "        bag_train = training_set.sample(n=len(training_set), replace = True)\n",
    "\n",
    "        #Running decision tree to populate result_tree dataframe\n",
    "        growTree(bag_train, 'r')\n",
    "        \n",
    "        print(result_tree.head(3))\n",
    "        \n",
    "        result = []\n",
    "\n",
    "        d_final_test = test_set[['pclass', 'age', 'sibsp', 'parch', 'fare', 'sex', 'embarked']].dropna()\n",
    "\n",
    "        #Making predictions on the test set\n",
    "        for e in d_final_test.iterrows():\n",
    "            temp = pd.DataFrame(list(e)[1:], columns = ['pclass', 'age', 'sibsp', 'parch', 'fare', 'sex', 'embarked'])\n",
    "            t = prediction(temp,'r')\n",
    "            result.append(t)\n",
    "        #Populating the bagging dataset with predictions for each bag    \n",
    "        bagging[elem] = result\n",
    "    \n",
    "    bagging['majority']=''\n",
    "    #Finding majority for each bag across one particular observation\n",
    "    for j in range(0,len(bagging)):\n",
    "       \n",
    "        bagging['majority'].iloc[j] = mode(list(bagging.iloc[j])[0:(x+1)])\n",
    "    \n",
    "    #Performnace measures\n",
    "    x = accuracy_score(test_set['survived'],bagging['majority'])*100\n",
    "    y = precision_score(test_set['survived'],bagging['majority'])\n",
    "    z = recall_score(test_set['survived'],bagging['majority'])\n",
    "    \n",
    "    #Append accuracy score, precision, recall for each value of B from bags\n",
    "    acc.append(x)\n",
    "    print('Accuracy',x)\n",
    "    p.append(y)\n",
    "    print('Precision',y)\n",
    "    r.append(z)\n",
    "    print('Recall',z)\n",
    "    "
   ]
  },
  {
   "cell_type": "code",
   "execution_count": 70,
   "metadata": {},
   "outputs": [],
   "source": [
    "acc = [value/100 for value in acc]"
   ]
  },
  {
   "cell_type": "code",
   "execution_count": 65,
   "metadata": {},
   "outputs": [
    {
     "data": {
      "text/plain": [
       "[0.8181818181818182, 0.8611111111111112, 0.8356164383561644]"
      ]
     },
     "execution_count": 65,
     "metadata": {},
     "output_type": "execute_result"
    }
   ],
   "source": [
    "p"
   ]
  },
  {
   "cell_type": "code",
   "execution_count": 66,
   "metadata": {},
   "outputs": [
    {
     "data": {
      "text/plain": [
       "[0.6864406779661016, 0.5254237288135594, 0.5169491525423728]"
      ]
     },
     "execution_count": 66,
     "metadata": {},
     "output_type": "execute_result"
    }
   ],
   "source": [
    "r"
   ]
  },
  {
   "cell_type": "code",
   "execution_count": 73,
   "metadata": {},
   "outputs": [
    {
     "data": {
      "image/png": "[encoded data removed]",
      "text/plain": [
       "<matplotlib.figure.Figure at 0x2534a0a2400>"
      ]
     },
     "metadata": {},
     "output_type": "display_data"
    }
   ],
   "source": [
    "plt.figure(figsize=(16,7))\n",
    "plt.plot(bags,acc,marker='o')\n",
    "plt.plot(bags,p,marker='o')\n",
    "plt.plot(bags,r,marker='o')\n",
    "plt.grid(b=True)\n",
    "plt.show()"
   ]
  },
  {
   "cell_type": "markdown",
   "metadata": {},
   "source": [
    "According to my calculations, the accuracy should increase upto 50 bags and then remain constant for a while and the best optimal solution would be at B~150. There is however no significant increase in the accuracy with bagging."
   ]
  },
  {
   "cell_type": "markdown",
   "metadata": {},
   "source": [
    "### Random Forest "
   ]
  },
  {
   "cell_type": "code",
   "execution_count": 166,
   "metadata": {},
   "outputs": [],
   "source": [
    "training_set = pd.concat([X_train,y_train],axis=1)\n",
    "test_set = pd.concat([X_test,y_test],axis=1)"
   ]
  },
  {
   "cell_type": "code",
   "execution_count": 167,
   "metadata": {},
   "outputs": [
    {
     "data": {
      "text/plain": [
       "Index(['pclass', 'age', 'sibsp', 'parch', 'fare', 'sex', 'embarked',\n",
       "       'survived'],\n",
       "      dtype='object')"
      ]
     },
     "execution_count": 167,
     "metadata": {},
     "output_type": "execute_result"
    }
   ],
   "source": [
    "training_set.columns"
   ]
  },
  {
   "cell_type": "code",
   "execution_count": 168,
   "metadata": {},
   "outputs": [
    {
     "name": "stdout",
     "output_type": "stream",
     "text": [
      "Forest with trees = 6\n"
     ]
    },
    {
     "name": "stderr",
     "output_type": "stream",
     "text": [
      "C:\\Users\\prate\\Anaconda3\\lib\\site-packages\\ipykernel_launcher.py:10: SettingWithCopyWarning: \n",
      "A value is trying to be set on a copy of a slice from a DataFrame.\n",
      "Try using .loc[row_indexer,col_indexer] = value instead\n",
      "\n",
      "See the caveats in the documentation: http://pandas.pydata.org/pandas-docs/stable/indexing.html#indexing-view-versus-copy\n",
      "  # Remove the CWD from sys.path while we load stuff.\n"
     ]
    },
    {
     "name": "stdout",
     "output_type": "stream",
     "text": [
      "  node observation   Survived    Drowned feature  value\n",
      "1    r        1047  36.198663  63.801337     sex      0\n",
      "2   rL         385  70.649351  29.350649    fare  69.55\n",
      "3  rLR         321  64.797508  35.202492    fare   8.85\n",
      "  node observation   Survived    Drowned   feature value\n",
      "1    r        1047  33.237822  66.762178       sex     0\n",
      "2   rL         353  66.855524  33.144476  embarked     0\n",
      "3  rLL         287  62.020906  37.979094     parch     3\n",
      "  node observation   Survived    Drowned feature value\n",
      "1    r        1047  35.816619  64.183381  pclass     1\n",
      "2   rL         794  27.959698  72.040302   parch     0\n",
      "3  rLL         202  45.049505  54.950495  pclass     2\n",
      "  node observation   Survived    Drowned feature    value\n",
      "1    r        1047  37.631328  62.368672    fare   52.000\n",
      "2   rL         173  72.254335  27.745665   sibsp    3.000\n",
      "3  rLR         169  73.964497  26.035503    fare  227.525\n",
      "  node observation   Survived    Drowned   feature value\n",
      "1    r        1047  35.148042  64.851958       sex     0\n",
      "2   rL         373  67.292225  32.707775  embarked     0\n",
      "3  rLL         281  58.362989  41.637011     parch     3\n"
     ]
    },
    {
     "name": "stderr",
     "output_type": "stream",
     "text": [
      "C:\\Users\\prate\\Anaconda3\\lib\\site-packages\\pandas\\core\\indexing.py:194: SettingWithCopyWarning: \n",
      "A value is trying to be set on a copy of a slice from a DataFrame\n",
      "\n",
      "See the caveats in the documentation: http://pandas.pydata.org/pandas-docs/stable/indexing.html#indexing-view-versus-copy\n",
      "  self._setitem_with_indexer(indexer, value)\n"
     ]
    },
    {
     "name": "stdout",
     "output_type": "stream",
     "text": [
      "Accuracy 0.7137404580152672\n",
      "Precision 0.8115942028985508\n",
      "Recall 0.4745762711864407\n",
      "Forest with trees = 8\n",
      "  node observation   Survived    Drowned feature  value\n",
      "1    r        1047  35.530086  64.469914     sex   0.00\n",
      "2   rL         371  71.428571  28.571429  pclass   2.00\n",
      "3  rLL         177  50.847458  49.152542    fare  24.15\n",
      "  node observation   Survived    Drowned feature     value\n",
      "1    r        1047  36.676218  63.323782    fare   15.1000\n",
      "2   rL         512  52.343750  47.656250    fare   77.2875\n",
      "3  rLL          90  73.333333  26.666667    fare  146.5208\n",
      "  node observation   Survived    Drowned   feature value\n",
      "1    r        1047  35.148042  64.851958    pclass     2\n",
      "2   rL         567  21.164021  78.835979       age     9\n",
      "3  rLL         522  18.390805  81.609195  embarked     1\n",
      "  node observation   Survived    Drowned feature value\n",
      "1    r        1047  37.153773  62.846227     sex     0\n",
      "2   rL         380  72.368421  27.631579   sibsp     2\n",
      "3  rLL          24  25.000000  75.000000   sibsp     4\n",
      "  node observation   Survived    Drowned feature      value\n",
      "1    r        1047  34.383954  65.616046     sex   0.000000\n",
      "2   rL         357  70.028011  29.971989    fare  46.900000\n",
      "3  rLL         109  94.495413   5.504587     age  29.881135\n",
      "  node observation   Survived    Drowned feature  value\n",
      "1    r        1047  36.103152  63.896848     sex      0\n",
      "2   rL         365  69.315068  30.684932  pclass      2\n",
      "3  rLL         166  43.975904  56.024096    fare  24.15\n",
      "  node observation   Survived    Drowned feature  value\n",
      "1    r        1047  36.771729  63.228271     sex      0\n",
      "2   rL         372  72.311828  27.688172    fare  69.55\n",
      "3  rLL          69  97.101449   2.898551     age      2\n",
      "Accuracy 0.7633587786259542\n",
      "Precision 0.8414634146341463\n",
      "Recall 0.5847457627118644\n",
      "Forest with trees = 10\n",
      "  node observation   Survived    Drowned feature    value\n",
      "1    r        1047  34.574976  65.425024    fare  15.5792\n",
      "2   rR         585  22.222222  77.777778     age  19.0000\n",
      "3  rRL         506  19.762846  80.237154    fare   6.8583\n",
      "  node observation   Survived    Drowned   feature value\n",
      "1    r        1047  37.249284  62.750716       sex     0\n",
      "2   rR         667  18.140930  81.859070    pclass     1\n",
      "3  rRL         523  14.531549  85.468451  embarked     0\n",
      "  node observation   Survived    Drowned feature value\n",
      "1    r        1047  34.861509  65.138491     sex     0\n",
      "2   rL         374  68.449198  31.550802  pclass     2\n",
      "3  rLL         181  43.093923  56.906077     age    38\n",
      "  node observation   Survived    Drowned feature  value\n",
      "1    r        1047  37.249284  62.750716    fare   15.1\n",
      "2   rL         531  52.730697  47.269303   sibsp    2.0\n",
      "3  rLR         484  56.818182  43.181818   parch    0.0\n",
      "  node observation   Survived    Drowned feature   value\n",
      "1    r        1047  36.103152  63.896848  pclass  2.0000\n",
      "2   rL         566  23.851590  76.148410     age  0.8333\n",
      "3  rLL         556  22.841727  77.158273   parch  3.0000\n",
      "  node observation   Survived    Drowned   feature value\n",
      "1    r        1047  35.434575  64.565425       sex     0\n",
      "2   rL         354  71.751412  28.248588  embarked     0\n",
      "3  rLL         267  67.041199  32.958801     parch     3\n",
      "  node observation   Survived    Drowned feature  value\n",
      "1    r        1047  34.479465  65.520535    fare  15.10\n",
      "2   rL         535  48.037383  51.962617  pclass   2.00\n",
      "3  rLL         156  25.641026  74.358974    fare  23.25\n",
      "  node observation   Survived    Drowned feature value\n",
      "1    r        1047  36.007641  63.992359  pclass     1\n",
      "2   rL         791  28.824273  71.175727  pclass     2\n",
      "3  rLL         583  25.042882  74.957118   sibsp     2\n",
      "  node observation   Survived    Drowned   feature value\n",
      "1    r        1047  36.103152  63.896848       sex     0\n",
      "2   rL         367  74.114441  25.885559  embarked     0\n",
      "3  rLL         276  69.202899  30.797101       age    32\n",
      "Accuracy 0.648854961832061\n",
      "Precision 0.8421052631578947\n",
      "Recall 0.2711864406779661\n"
     ]
    }
   ],
   "source": [
    "# growForest\n",
    "forest = [6,8,10]\n",
    "acc=[]\n",
    "p=[]\n",
    "r=[]\n",
    "for x in forest:\n",
    "    print('Forest with trees =',x+1)\n",
    "    cols = []\n",
    "    for i in (range(0,x)):\n",
    "        a = 'bag'+str(i)\n",
    "        cols.append(a)\n",
    "\n",
    "    bagging = pd.DataFrame(columns = cols)\n",
    "\n",
    "    for elem in bagging.columns:\n",
    "        \n",
    "        #Defining a tree to store decision tree results for each individual bag\n",
    "        result_tree = pd.DataFrame(columns = ['node', 'observation', 'Survived', 'Drowned', 'feature', 'value'])\n",
    "       \n",
    "        cols1 = training_set.columns\n",
    "        cols1 = cols1[cols1 != 'survived']\n",
    "        \n",
    "        #Selecting random number of features m = sqrt.(p)\n",
    "        list_cols = (np.random.choice(cols1, size=int(round(math.sqrt(len(cols1)),0)), replace = False))\n",
    "        list_cols = list(np.append(list_cols, 'survived'))\n",
    "        \n",
    "        #Subsetting the dataset\n",
    "        set_train = training_set[list_cols]\n",
    "               \n",
    "        \n",
    "        #Drawing N samples with replacement from N observations\n",
    "        bag_train = set_train.sample(n=len(set_train), replace = True)\n",
    "        \n",
    "        #Running decision tree to populate result_tree dataframe\n",
    "        growTree(bag_train, 'r')\n",
    "        \n",
    "        print(result_tree.head(3))\n",
    "\n",
    "        result = []\n",
    "\n",
    "        d_final_test = test_set[['pclass', 'age', 'sibsp', 'parch', 'fare', 'sex', 'embarked']].dropna()\n",
    "\n",
    "        #Making predictions on the test set\n",
    "        for e in d_final_test.iterrows():\n",
    "            temp = pd.DataFrame(list(e)[1:], columns = ['pclass', 'age', 'sibsp', 'parch', 'fare', 'sex', 'embarked'])\n",
    "            t = prediction(temp,'r')\n",
    "            result.append(t)\n",
    "        #Populating the bagging dataset with predictions for each bag    \n",
    "        bagging[elem] = result\n",
    "    \n",
    "    bagging['majority']=''\n",
    "    #Finding majority for each bag across one particular observation\n",
    "    for j in range(0,len(bagging)):\n",
    "        bagging['majority'].iloc[j] = mode(list(bagging.iloc[j])[0:(x+1)])\n",
    "    \n",
    "    #Performnace measures\n",
    "    x = accuracy_score(test_set['survived'],bagging['majority'])\n",
    "    y = precision_score(test_set['survived'],bagging['majority'])\n",
    "    z = recall_score(test_set['survived'],bagging['majority'])\n",
    "    \n",
    "    #Append accuracy score, precision, recall for each value of B from bags\n",
    "    acc.append(x)\n",
    "    print('Accuracy',x)\n",
    "    p.append(y)\n",
    "    print('Precision',y)\n",
    "    r.append(z)\n",
    "    print('Recall',z)\n",
    "    "
   ]
  },
  {
   "cell_type": "code",
   "execution_count": 169,
   "metadata": {},
   "outputs": [
    {
     "data": {
      "image/png": "[encoded data removed]",
      "text/plain": [
       "<matplotlib.figure.Figure at 0x2534ae9fb00>"
      ]
     },
     "metadata": {},
     "output_type": "display_data"
    }
   ],
   "source": [
    "plt.figure(figsize=(16,7))\n",
    "plt.plot(forest,acc,marker='o')\n",
    "plt.plot(forest,p,marker='o')\n",
    "plt.plot(forest,r,marker='o')\n",
    "plt.grid(b=True)\n",
    "plt.show()"
   ]
  },
  {
   "cell_type": "markdown",
   "metadata": {},
   "source": [
    "The best optimal value for Random forest would be around 150. However my machine did not allow this computation, but as suggested by Professor, on running for 10 tress we can see an improve in accuracy. The accuracy is better than bagging but overall there is no significant increase in accuracy. The Precision however is much better than bagging and one decision tree "
   ]
  },
  {
   "cell_type": "code",
   "execution_count": null,
   "metadata": {},
   "outputs": [],
   "source": []
  }
 ],
 "metadata": {
  "kernelspec": {
   "display_name": "Python 3",
   "language": "python",
   "name": "python3"
  },
  "language_info": {
   "codemirror_mode": {
    "name": "ipython",
    "version": 3
   },
   "file_extension": ".py",
   "mimetype": "text/x-python",
   "name": "python",
   "nbconvert_exporter": "python",
   "pygments_lexer": "ipython3",
   "version": "3.6.4"
  }
 },
 "nbformat": 4,
 "nbformat_minor": 2
}
